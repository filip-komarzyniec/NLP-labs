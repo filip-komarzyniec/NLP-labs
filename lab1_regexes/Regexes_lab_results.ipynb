{
 "cells": [
  {
   "cell_type": "code",
   "execution_count": 3,
   "id": "62a4a7dc",
   "metadata": {},
   "outputs": [],
   "source": [
    "import re\n",
    "import matplotlib as plt\n",
    "from glob import iglob"
   ]
  },
  {
   "cell_type": "code",
   "execution_count": 28,
   "id": "2515956e",
   "metadata": {},
   "outputs": [],
   "source": [
    "t_string = \"\"\"     - w pkt 4 po wyrazach \"samochodu osobowego\" dodaje się wyrazy \n",
    "         \"lub innego samochodu o dopuszczalnej ładowności nie przekraczającej\n",
    "         500 kilogramów\",\n",
    "\n",
    "   a) w pkt 10 po wyrazach \"miejsce zamieszkania podatnika;\" dodaje\n",
    "     się wyrazy \"w przypadku osób fizycznych nie wykonujących innych\n",
    "     czynności podlegających opodatkowaniu poza importem towarów urząd\n",
    "skarbowy właściwy ze względu na miejsce zamieszkania;\",\n",
    "   b) w pkt 12 wyrazy \"z wyjątkiem drewna liściastego, iglastego i\n",
    "     egzotycznego (SWW: 4311, 4312 i 4319),\" zastępuje się wyrazami\n",
    "     \"z wyjątkiem drewna egzotycznego (SWW: 4319)\";\n",
    "2) w art. 7 w ust. 1 w pkt 4 wyrazy \"art. 190 § 1 pkt 1-33\" zastępuje\n",
    "  się wyrazami \"art. 190 § 1 pkt 1-31, 33\";\n",
    "3) w art. 10 ust. 2 otrzymuje brzmienie:\n",
    "     \"2. Zobowiązanie podatkowe, kwotę zwrotu różnicy podatku, kwotę\n",
    "       zwrotu podatku naliczonego lub różnicy podatku, o której mowa\n",
    "       w art. 21 ust. 1, przyjmuje się w kwocie wynikającej z\n",
    "       deklaracji podatkowej, chyba że urząd skarbowy lub organ\n",
    "       kontroli skarbowej określi je w innej wysokości.\";\n",
    "4) w art. 11 dodaje się ust. 7 w brzmieniu:\n",
    "\n",
    "\n",
    "   e) po ust. 4 dodaje się ust. 4a w brzmieniu:\n",
    "     \"4a. W okresie 36 miesięcy od dnia wejścia w życie ustawy\n",
    "       minimalna kwota podatku akcyzowego wynosi 90% kwoty podatku\n",
    "       akcyzowego naliczonego od ceny równej najpopularniejszej\n",
    "       dodaje sie wyrazy \"elo twoja starA\"\n",
    "       kategorii cenowej, o której mowa w ust. 4 pkt 4.\",\n",
    "   f) ust. 6 otrzymuje brzmienie:\n",
    "     \"6. Minister właściwy do spraw finansów publicznych określi, w\n",
    "       drodze rozporządzenia, szczegółowe zasady przekazywania przez\n",
    "       producentów i importerów wyrobów tytoniowych informacji\n",
    "       dotyczących oznaczania papierosów cenami detalicznymi, o\n",
    "       których mowa w ust. 5, oraz wielkości rocznej sprzedaży\n",
    "       poszczególnych marek papierosów.\",\n",
    "   g) dodaje się ust. 7 i 8 w brzmieniu:\n",
    "     \"7. Podatnikami podatku akcyzowego są równ\n",
    "\n",
    "\n",
    "\n",
    "2)   w art. 22:\n",
    "a)   w ust. 1 w\n",
    "pkt 2 na końcu dodaje się przecinek i dodaje się pkt 3 w brzmieniu:\n",
    "„3) wpłacający na\n",
    "fundusze promocji produktów rolno-spożywczych, o których mowa w ustawie z dnia\n",
    "22 maja 2009 r. o funduszach promocji produktów rolno-spożywczych (Dz. U. Nr\n",
    "..., poz. ...), lub korzystający ze środków tych funduszy”,\n",
    "b)   dodaje się\n",
    "ust. 9 w brzmieniu:\n",
    "„9. Przepisów\n",
    "ust. 6 i 6a nie stosuje się do przedsiębiorców, o których mowa w ust. 1\n",
    "pkt 3.”.\"\"\"\n",
    "\n",
    "t_string_rem = \"\"\"8) w art. 21c w ust. 2 wyrazy \"pieczęcią zaopatrzoną w numerator\"\n",
    "  zastępuje się wyrazami \"stemplem zaopatrzonym w numerator\";\n",
    "9) w art. 21e w ust. 1 w pkt 2 wyrazy \"wzór pieczęci\" zastępuje się\n",
    "  wyrazami \"wzór stempla\";\n",
    "10) w art. 27 w ust. 1 skreśla się wyrazy \"pkt 1\";\n",
    "11) w art. 36 w ust. 1 wyrazy \"ust. 2\" zastępuje się wyrazami \"ust. 23\";\n",
    "\n",
    "12) w art. 37:\n",
    "  się wyrazami \"31 grudnia 2002 r.\";\n",
    "17) w załączniku nr 3 skreśla się poz. 88;\n",
    "18) w załączniku nr 8 w poz. 7 w kolumnie 3 wyrazy \"z wyjątkiem\n",
    "  drewna liściastego, iglastego i egzotycznego (SWW: 4311, 4312 i\n",
    "  4319)\" zastępuje się wyrazami \"z wyjątkiem drewna egzotycznego\n",
    "  (SWW: 4319)\".\n",
    "162, poz. 1118, z 1999 r. Nr 49, poz. 483, Nr 70, poz. 778 oraz z 2000 r. Nr 6,\n",
    "poz. 69, Nr 66, poz. 787 i Nr 109, poz. 1165) w art. 44 wyrazy \"a także do\n",
    "kuratorów zawodowych,\" skreśla się.\n",
    "701, Nr 120, poz. 1268 i Nr 122, poz. 1318) w art. 176 wyrazy \"Rada Ministrów\"\n",
    "zastępuje się wyrazami \"Minister Sprawiedliwości\" oraz skreśla się wyrazy\n",
    "\"organizację kuratorskiej służby sądowej,\".\n",
    "           wyłączeniem art. 526 § 2 oraz art. 530 § 2 i 3.\";\n",
    "11) w art. 65 § 2 wyraz \"wyroku\" zastępuje się wyrazem \"orzeczenia\";\n",
    "12) skreśla się art. 66;\n",
    "13) w art. 71:\"\"\"\n",
    "\n",
    "t_string_change = \"\"\"8) w art. 21c w ust. 2 wyrazy \"pieczęcią zaopatrzoną w numerator\"\n",
    "  zastępuje się wyrazami \"stemplem zaopatrzonym w numerator\";\n",
    "9) w art. 21e w ust. 1 w pkt 2 wyrazy \"wzór pieczęci\" zastępuje się\n",
    "  wyrazami \"wzór stempla\";\n",
    "10) w art. 27 w ust. 1 skreśla się wyrazy \"pkt 1\";\n",
    "11) w art. 36 w ust. 1 wyrazy \"ust. 2\" zastępuje się wyrazami \"ust. 23\";\n",
    "\n",
    "12) w art. 37:\n",
    "  się wyrazami \"31 grudnia 2002 r.\";\n",
    "17) w załączniku nr 3 skreśla się poz. 88;\n",
    "18) w załączniku nr 8 w poz. 7 w kolumnie 3 wyrazy \"z wyjątkiem\n",
    "  drewna liściastego, iglastego i egzotycznego (SWW: 4311, 4312 i\n",
    "  4319)\" zastępuje się wyrazami \"z wyjątkiem drewna egzotycznego\n",
    "  (SWW: 4319)\".\n",
    "162, poz. 1118, z 1999 r. Nr 49, poz. 483, Nr 70, poz. 778 oraz z 2000 r. Nr 6,\n",
    "poz. 69, Nr 66, poz. 787 i Nr 109, poz. 1165) w art. 44 wyrazy \"a także do\n",
    "kuratorów zawodowych,\" skreśla się.\n",
    " b) ust. 2 otrzymuje brzmienie:\n",
    "          \"2. Za wierzytelności, o których mowa w ust. 1 pkt 20, uważa \n",
    "             się te wierzytelności, których nieściągalność została udokumentowana:\n",
    "              1) postanowieniem o nieściągalności, uznanym przez wierzyciela\n",
    "                jako odpowiadające stanowi faktycznemu, wydanym\n",
    "                przez właściwy organ postępowania egzekucyjnego,\n",
    "                albo\n",
    "              2) postanowien\"\"\""
   ]
  },
  {
   "cell_type": "code",
   "execution_count": 17,
   "id": "96074428",
   "metadata": {},
   "outputs": [
    {
     "name": "stdout",
     "output_type": "stream",
     "text": [
      "In 464 files there were no units additions\n"
     ]
    }
   ],
   "source": [
    "#ZAD 1 addition of a unit (e.g. dodaje się ust. 5a),\n",
    "\n",
    "## Ustawa wchodzi w życie z dniem ogłoszenia; does it count as well? ? ? ?\n",
    "\n",
    "add_pattern = re.compile(r\"(?<!\\\"\\s)dodaje(?!.*\\\")(?!.*dodaje)\")  # przeciwdziała np. dodaje sie przecinek i dodaje sie unit \n",
    "\n",
    "files = iglob(\"ustawy/*\")\n",
    "results = dict()\n",
    "found = []\n",
    "no_additions = 0\n",
    "DEBUG = False\n",
    "\n",
    "\n",
    "def get_year_from_name(filename):\n",
    "    base_name = filename.split(\"/\")[-1]\n",
    "    return base_name.split(\"_\")[0]\n",
    "\n",
    "\n",
    "for f in files:\n",
    "    with open(f, 'r') as ff:\n",
    "        year = get_year_from_name(ff.name)\n",
    "        found  = re.findall(add_pattern, ff.read())\n",
    "        if not found: \n",
    "            no_additions += 1\n",
    "            if DEBUG:\n",
    "                print(f\"ERROR, no unit addition found in file: {ff.name}\")\n",
    "        try:\n",
    "            results[year] += len(found)\n",
    "        except KeyError:\n",
    "            results[year] = len(found)\n",
    "\n",
    "print(f\"In {no_additions} files there were no units additions\")"
   ]
  },
  {
   "cell_type": "code",
   "execution_count": null,
   "id": "fc838ce5",
   "metadata": {},
   "outputs": [],
   "source": [
    "for y, adds in results.items():\n",
    "    print(f\"in {y} there were {adds} units additions\")\n",
    "    "
   ]
  },
  {
   "cell_type": "code",
   "execution_count": 21,
   "id": "39493797",
   "metadata": {},
   "outputs": [
    {
     "name": "stdout",
     "output_type": "stream",
     "text": [
      "In 840 files there were no units additions\n"
     ]
    }
   ],
   "source": [
    "# ZAD2 removal of a unit (e.g. w art. 10 ust. 1 pkt 8 skreśla się),\n",
    "remov_pattern = re.compile(r\"(?<!\\\"\\s)skreśla(?!.*\\\")(?!.*wyrazy)\")\n",
    "\n",
    "files = iglob(\"ustawy/*\")\n",
    "found_rem = []\n",
    "no_removals = 0\n",
    "results2 = dict()\n",
    "for f in files:\n",
    "    with open(f, 'r') as ff:\n",
    "        year = get_year_from_name(ff.name)\n",
    "        found_rem  = re.findall(remov_pattern, ff.read())\n",
    "        if not found_rem: \n",
    "            no_removals += 1\n",
    "            if DEBUG:\n",
    "                print(f\"ERROR, no unit addition found in file: {ff.name}\")\n",
    "        try:\n",
    "            results2[year] += len(found_rem)\n",
    "        except KeyError:\n",
    "            results2[year] = len(found_rem)\n",
    "\n",
    "print(f\"In {no_removals} files there were no units additions\")"
   ]
  },
  {
   "cell_type": "code",
   "execution_count": null,
   "id": "c15a1fa0",
   "metadata": {},
   "outputs": [],
   "source": [
    "for y, rem in results2.items():\n",
    "    print(f\"in {y} there were {rem} units removals\")\n",
    "    "
   ]
  },
  {
   "cell_type": "code",
   "execution_count": 26,
   "id": "3b96cc86",
   "metadata": {},
   "outputs": [],
   "source": [
    "# ZAD 3 -- change of a unit (e.g. art. 5 otrzymuje brzmienie).\n",
    "\n",
    "change_pattern = re.compile(r\"(zastępuje|otrzymuje brzmienie)\")\n",
    "files = iglob(\"ustawy/*\")\n",
    "found_change = []\n",
    "no_change = 0\n",
    "results3 = dict()\n",
    "\n",
    "for f in files:\n",
    "    with open(f, 'r') as ff:\n",
    "        year = get_year_from_name(ff.name)\n",
    "        found_change  = re.findall(change_pattern, ff.read())\n",
    "        if not found_change: \n",
    "            no_change += 1\n",
    "            if DEBUG:\n",
    "                print(f\"ERROR, no unit changes found in file: {ff.name}\")\n",
    "        try:\n",
    "            results3[year] += len(found_change)\n",
    "        except KeyError:\n",
    "            results3[year] = len(found_change)\n",
    "\n",
    "#zastępuje się | otrzymuje brzmienie"
   ]
  },
  {
   "cell_type": "code",
   "execution_count": null,
   "id": "647d4c10",
   "metadata": {},
   "outputs": [],
   "source": [
    "for y, change in results3.items():\n",
    "    print(f\"in {y} there were {change} units removals\")\n",
    "    "
   ]
  },
  {
   "cell_type": "code",
   "execution_count": null,
   "id": "38b72cbf",
   "metadata": {},
   "outputs": [],
   "source": [
    "# ZAD 4 PLOT ABOVE RESULTS spanned throughout the years\n"
   ]
  },
  {
   "cell_type": "code",
   "execution_count": 46,
   "id": "b1d2570e",
   "metadata": {},
   "outputs": [],
   "source": [
    "# ZAD 5 ustawa word in any flectional and spelling form \n",
    "\n",
    "ustawa_pattern = re.compile(r\"(ustawa|ustawy|ustawie|ustawę|ustawą|ustawo|ustawy|ustaw|ustawom|ustawami|ustawach)\\b\", re.IGNORECASE)\n",
    "files = iglob(\"ustawy/*\")\n",
    "found_ustawa = []\n",
    "no_ustawa = 0\n",
    "results4 = dict()\n",
    "\n",
    "for f in files:\n",
    "    with open(f, 'r') as ff:\n",
    "        year = get_year_from_name(ff.name)\n",
    "        found_ustawa  = re.findall(ustawa_pattern, ff.read())\n",
    "        if not found_ustawa: \n",
    "            no_ustawa += 1\n",
    "            if DEBUG:\n",
    "                print(f\"ERROR, no 'ustawa' word in any form found in file: {ff.name}\")\n",
    "        try:\n",
    "            results4[year] += len(found_ustawa)\n",
    "        except KeyError:\n",
    "            results4[year] = len(found_ustawa)\n"
   ]
  },
  {
   "cell_type": "code",
   "execution_count": 47,
   "id": "03c4a22f",
   "metadata": {},
   "outputs": [
    {
     "name": "stdout",
     "output_type": "stream",
     "text": [
      "in 2001 there were 4142 'ustawa' word in any form occurences\n",
      "in 1996 there were 1911 'ustawa' word in any form occurences\n",
      "in 2003 there were 4091 'ustawa' word in any form occurences\n",
      "in 1997 there were 3457 'ustawa' word in any form occurences\n",
      "in 2000 there were 2240 'ustawa' word in any form occurences\n",
      "in 2004 there were 4954 'ustawa' word in any form occurences\n",
      "in 1995 there were 1018 'ustawa' word in any form occurences\n",
      "in 1994 there were 637 'ustawa' word in any form occurences\n",
      "in 1999 there were 836 'ustawa' word in any form occurences\n",
      "in 2002 there were 811 'ustawa' word in any form occurences\n",
      "in 1998 there were 772 'ustawa' word in any form occurences\n",
      "in 1993 there were 68 'ustawa' word in any form occurences\n"
     ]
    }
   ],
   "source": [
    "for y, ustawa in results4.items():\n",
    "    print(f\"in {y} there were {ustawa} 'ustawa' word in any form occurences\")\n",
    "    "
   ]
  },
  {
   "cell_type": "code",
   "execution_count": 48,
   "id": "6af7367e",
   "metadata": {},
   "outputs": [],
   "source": [
    "# ZAD 6  ustawa in any form followed by 'z dnia' expression\n",
    "patt = r\"(ustawa|ustawy|ustawie|ustawę|ustawą|ustawo|ustawy|ustaw|ustawom|ustawami|ustawach)\\s+(?=(z\\sdnia))\"\n",
    "\n",
    "ustawa_z_dnia_pattern = re.compile(patt, re.IGNORECASE)\n",
    "\n",
    "files = iglob(\"ustawy/*\")\n",
    "found_ustawa_z_dnia = []\n",
    "no_ustawa_z_dnia = 0\n",
    "results5 = dict()\n",
    "\n",
    "for f in files:\n",
    "    with open(f, 'r') as ff:\n",
    "        year = get_year_from_name(ff.name)\n",
    "        found_ustawa_z_dnia = re.findall(ustawa_z_dnia_pattern, ff.read())\n",
    "        if not found_ustawa_z_dnia: \n",
    "            no_ustawa_z_dnia += 1\n",
    "            if DEBUG:\n",
    "                print(f\"ERROR, no 'ustawa' word in any form followe by 'z dnia' found in file: {ff.name}\")\n",
    "        try:\n",
    "            results5[year] += len(found_ustawa_z_dnia)\n",
    "        except KeyError:\n",
    "            results5[year] = len(found_ustawa_z_dnia)\n",
    "\n"
   ]
  },
  {
   "cell_type": "code",
   "execution_count": 49,
   "id": "b8d1f7b3",
   "metadata": {},
   "outputs": [
    {
     "name": "stdout",
     "output_type": "stream",
     "text": [
      "in 2001 there were 1270 'ustawa' word in any form followed by 'z dnia' occurences\n",
      "in 1996 there were 599 'ustawa' word in any form followed by 'z dnia' occurences\n",
      "in 2003 there were 1565 'ustawa' word in any form followed by 'z dnia' occurences\n",
      "in 1997 there were 1060 'ustawa' word in any form followed by 'z dnia' occurences\n",
      "in 2000 there were 818 'ustawa' word in any form followed by 'z dnia' occurences\n",
      "in 2004 there were 1761 'ustawa' word in any form followed by 'z dnia' occurences\n",
      "in 1995 there were 286 'ustawa' word in any form followed by 'z dnia' occurences\n",
      "in 1994 there were 168 'ustawa' word in any form followed by 'z dnia' occurences\n",
      "in 1999 there were 307 'ustawa' word in any form followed by 'z dnia' occurences\n",
      "in 2002 there were 360 'ustawa' word in any form followed by 'z dnia' occurences\n",
      "in 1998 there were 211 'ustawa' word in any form followed by 'z dnia' occurences\n",
      "in 1993 there were 22 'ustawa' word in any form followed by 'z dnia' occurences\n"
     ]
    }
   ],
   "source": [
    "for y, ustawa_z_dnia in results5.items():\n",
    "    print(f\"in {y} there were {ustawa_z_dnia} 'ustawa' word in any form followed by 'z dnia' occurences\")\n",
    "    "
   ]
  },
  {
   "cell_type": "code",
   "execution_count": 50,
   "id": "6dfa7e8f",
   "metadata": {},
   "outputs": [],
   "source": [
    "# ZAD 7 ustawa in any form NOT followed by 'z dnia' expression\n",
    "\n",
    "patt2 = r\"(ustawa|ustawy|ustawie|ustawę|ustawą|ustawo|ustawy|ustaw|ustawom|ustawami|ustawach)\\b(?!\\s+(z\\sdnia))\"\n",
    "ustawa_alone_pattern = re.compile(patt2, re.IGNORECASE)\n",
    "\n",
    "files = iglob(\"ustawy/*\")\n",
    "found_ustawa_alone = []\n",
    "no_ustawa_alone = 0\n",
    "results6 = dict()\n",
    "\n",
    "\n",
    "\n",
    "for f in files:\n",
    "    with open(f, 'r') as ff:\n",
    "        year = get_year_from_name(ff.name)\n",
    "        found_ustawa_alone = re.findall(ustawa_alone_pattern, ff.read())\n",
    "        if not found_ustawa_alone: \n",
    "            no_ustawa_alone += 1\n",
    "            if DEBUG:\n",
    "                print(f\"ERROR, no 'ustawa' word in any form NOT followed by 'z dnia' found in file: {ff.name}\")\n",
    "        try:\n",
    "            results6[year] += len(found_ustawa_alone)\n",
    "        except KeyError:\n",
    "            results6[year] = len(found_ustawa_alone)"
   ]
  },
  {
   "cell_type": "code",
   "execution_count": null,
   "id": "9defbbfd",
   "metadata": {},
   "outputs": [],
   "source": [
    "for y, ustawa_z_dnia in results5.items():\n",
    "    print(f\"in {y} there were {ustawa_z_dnia} 'ustawa' word in any form followed by 'z dnia' occurences\")\n",
    "    "
   ]
  },
  {
   "cell_type": "code",
   "execution_count": 52,
   "id": "d3b8a66d",
   "metadata": {},
   "outputs": [
    {
     "name": "stdout",
     "output_type": "stream",
     "text": [
      "ustawa z dnia: 8427\n",
      "ustawa not followed by z dnia: 16510\n",
      "ustawa in any flexional form: 24937\n"
     ]
    },
    {
     "data": {
      "text/plain": [
       "True"
      ]
     },
     "execution_count": 52,
     "metadata": {},
     "output_type": "execute_result"
    }
   ],
   "source": [
    "# ZAD 8 Is the result correct (result 4 =? result 5 + result 6)?\n",
    "\n",
    "\n",
    "\n",
    "# def count_occurences(dct):\n",
    "#     sum_ = 0\n",
    "#     for i in dct.values():\n",
    "#         sum_ += i\n",
    "#     return sum_ \n",
    "\n",
    "ustawa_z_dnia_occurences = sum(results5.values())\n",
    "ustawa_alone_occurences = sum(results6.values())\n",
    "ustawa_any_form_occurences = sum(results4.values())\n",
    "\n",
    "\n",
    "print(f\"ustawa z dnia: {ustawa_z_dnia_occurences}\")\n",
    "print(f\"ustawa not followed by z dnia: {ustawa_alone_occurences}\")\n",
    "print(f\"ustawa in any flexional form: {ustawa_any_form_occurences}\")\n",
    "ustawa_alone_occurences + ustawa_z_dnia_occurences == ustawa_any_form_occurences"
   ]
  },
  {
   "cell_type": "code",
   "execution_count": 54,
   "id": "c6ebed59",
   "metadata": {},
   "outputs": [
    {
     "ename": "NameError",
     "evalue": "name 'ustawa_not_o_zmianie_pattern_pattern' is not defined",
     "output_type": "error",
     "traceback": [
      "\u001b[0;31m---------------------------------------------------------------------------\u001b[0m",
      "\u001b[0;31mNameError\u001b[0m                                 Traceback (most recent call last)",
      "\u001b[0;32m/var/folders/x2/kxdjfp3n0vj70bn6f_db0f6c0000gn/T/ipykernel_99637/1281690352.py\u001b[0m in \u001b[0;36m<module>\u001b[0;34m\u001b[0m\n\u001b[1;32m     12\u001b[0m     \u001b[0;32mwith\u001b[0m \u001b[0mopen\u001b[0m\u001b[0;34m(\u001b[0m\u001b[0mf\u001b[0m\u001b[0;34m,\u001b[0m \u001b[0;34m'r'\u001b[0m\u001b[0;34m)\u001b[0m \u001b[0;32mas\u001b[0m \u001b[0mff\u001b[0m\u001b[0;34m:\u001b[0m\u001b[0;34m\u001b[0m\u001b[0;34m\u001b[0m\u001b[0m\n\u001b[1;32m     13\u001b[0m         \u001b[0myear\u001b[0m \u001b[0;34m=\u001b[0m \u001b[0mget_year_from_name\u001b[0m\u001b[0;34m(\u001b[0m\u001b[0mff\u001b[0m\u001b[0;34m.\u001b[0m\u001b[0mname\u001b[0m\u001b[0;34m)\u001b[0m\u001b[0;34m\u001b[0m\u001b[0;34m\u001b[0m\u001b[0m\n\u001b[0;32m---> 14\u001b[0;31m         \u001b[0mfound_ustawa_not_o_zmianie_pattern\u001b[0m \u001b[0;34m=\u001b[0m \u001b[0mre\u001b[0m\u001b[0;34m.\u001b[0m\u001b[0mfindall\u001b[0m\u001b[0;34m(\u001b[0m\u001b[0mustawa_not_o_zmianie_pattern_pattern\u001b[0m\u001b[0;34m,\u001b[0m \u001b[0mff\u001b[0m\u001b[0;34m.\u001b[0m\u001b[0mread\u001b[0m\u001b[0;34m(\u001b[0m\u001b[0;34m)\u001b[0m\u001b[0;34m)\u001b[0m\u001b[0;34m\u001b[0m\u001b[0;34m\u001b[0m\u001b[0m\n\u001b[0m\u001b[1;32m     15\u001b[0m         \u001b[0;32mif\u001b[0m \u001b[0;32mnot\u001b[0m \u001b[0mfound_ustawa_not_o_zmianie_pattern\u001b[0m\u001b[0;34m:\u001b[0m\u001b[0;34m\u001b[0m\u001b[0;34m\u001b[0m\u001b[0m\n\u001b[1;32m     16\u001b[0m             \u001b[0mno_ustawa_not_o_zmianie_pattern\u001b[0m \u001b[0;34m+=\u001b[0m \u001b[0;36m1\u001b[0m\u001b[0;34m\u001b[0m\u001b[0;34m\u001b[0m\u001b[0m\n",
      "\u001b[0;31mNameError\u001b[0m: name 'ustawa_not_o_zmianie_pattern_pattern' is not defined"
     ]
    }
   ],
   "source": [
    "# ZAD 9  ustawa in any inflectional form, excluding occurrences following o zmianie expression\n",
    "patt3 = r\"(ustawa|ustawy|ustawie|ustawę|ustawą|ustawo|ustawy|ustaw|ustawom|ustawami|ustawach)\\b(?!\\s+(o\\szmianie))\"\n",
    "\n",
    "ustawa_not_o_zmianie_pattern = re.compile(patt3, re.IGNORECASE)\n",
    "\n",
    "files = iglob(\"ustawy/*\")\n",
    "found_ustawa_not_o_zmianie_pattern = []\n",
    "no_ustawa_not_o_zmianie_pattern = 0\n",
    "results7 = dict()\n",
    "\n",
    "for f in files:\n",
    "    with open(f, 'r') as ff:\n",
    "        year = get_year_from_name(ff.name)\n",
    "        found_ustawa_not_o_zmianie_pattern = re.findall(ustawa_not_o_zmianie_pattern_pattern, ff.read())\n",
    "        if not found_ustawa_not_o_zmianie_pattern: \n",
    "            no_ustawa_not_o_zmianie_pattern += 1\n",
    "            if DEBUG:\n",
    "                print(f\"ERROR, no 'ustawa' word in any form NOT followed by 'o zmianie' found in file: {ff.name}\")\n",
    "        try:\n",
    "            results7[year] += len(found_ustawa_not_o_zmianie_pattern)\n",
    "        except KeyError:\n",
    "            results7[year] = len(found_ustawa_not_o_zmianie_pattern)"
   ]
  },
  {
   "cell_type": "code",
   "execution_count": null,
   "id": "0bfecb2e",
   "metadata": {},
   "outputs": [],
   "source": [
    "for y, ustawa_not_o_zmianie in results7.items():\n",
    "    print(f\"in {y} there were {ustawa_not_o_zmianie} 'ustawa' word in any form NOT followed by 'o zmianie' occurences\")\n",
    "    "
   ]
  },
  {
   "cell_type": "code",
   "execution_count": null,
   "id": "40cc141e",
   "metadata": {},
   "outputs": [],
   "source": [
    "# ZAD 10 plot exercises' 4-7 results\n",
    "\n"
   ]
  }
 ],
 "metadata": {
  "kernelspec": {
   "display_name": "Python 3 (ipykernel)",
   "language": "python",
   "name": "python3"
  },
  "language_info": {
   "codemirror_mode": {
    "name": "ipython",
    "version": 3
   },
   "file_extension": ".py",
   "mimetype": "text/x-python",
   "name": "python",
   "nbconvert_exporter": "python",
   "pygments_lexer": "ipython3",
   "version": "3.8.12"
  }
 },
 "nbformat": 4,
 "nbformat_minor": 5
}
