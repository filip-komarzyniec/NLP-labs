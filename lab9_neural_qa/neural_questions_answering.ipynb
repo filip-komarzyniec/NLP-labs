{
 "cells": [
  {
   "cell_type": "code",
   "execution_count": 77,
   "id": "02b826b3",
   "metadata": {},
   "outputs": [],
   "source": [
    "### imports \n",
    "from pathlib import Path, PurePath\n",
    "import os\n",
    "import regex\n",
    "from haystack.document_stores import ElasticsearchDocumentStore\n",
    "from haystack.nodes import ElasticsearchRetriever\n",
    "from haystack.pipelines import ExtractiveQAPipeline\n",
    "from haystack.nodes import TransformersReader\n",
    "import numpy as np \n",
    "import json"
   ]
  },
  {
   "cell_type": "code",
   "execution_count": 82,
   "id": "07cff7ee",
   "metadata": {},
   "outputs": [],
   "source": [
    "from haystack.utils import print_answers"
   ]
  },
  {
   "cell_type": "markdown",
   "id": "f11d8119",
   "metadata": {},
   "source": [
    "### splitting bills into individual articles "
   ]
  },
  {
   "cell_type": "code",
   "execution_count": 2,
   "id": "8901718c",
   "metadata": {},
   "outputs": [],
   "source": [
    "prefix=\"/Users/filip/Documents/II_semestr/NLP/\"\n",
    "files = Path(prefix, \"ustawy_cleaned_capitalized/\").glob(\"*\")"
   ]
  },
  {
   "cell_type": "code",
   "execution_count": 3,
   "id": "680ebb2b",
   "metadata": {},
   "outputs": [],
   "source": [
    "#test_f = next(files)\n",
    "test_f = Path(prefix, \"ustawy_cleaned_capitalized/\", \"1993_599.txt\")"
   ]
  },
  {
   "cell_type": "code",
   "execution_count": 19,
   "id": "fbfdfa57",
   "metadata": {},
   "outputs": [],
   "source": [
    "## prepare regex\n",
    "#article_regex=regex.compile(\"\\s*(Art\\.\\s+\\d+\\.)\\s*((.|\\n)*?(?=\\s*(?:Art\\.\\s+\\d+\\.)\\s*))\")\n",
    "article_regex=regex.compile(\"\\s*(Art\\.\\s+\\d+\\.\\\\n)((.|\\n)*?(?=\\s*(?:(Art\\.\\s+\\d+\\.\\\\n|\\Z))))\")"
   ]
  },
  {
   "cell_type": "code",
   "execution_count": 38,
   "id": "9228f6dd",
   "metadata": {
    "collapsed": true
   },
   "outputs": [
    {
     "name": "stdout",
     "output_type": "stream",
     "text": [
      "zdublowany artykuł 2003_2256_Art. 3.txt\n",
      "zdublowany artykuł 2003_2256_Art. 13.txt\n",
      "zdublowany artykuł 2003_2256_Art. 18.txt\n",
      "zdublowany artykuł 2003_1953_Art. 21.txt\n",
      "zdublowany artykuł 2004_630_Art. 13.txt\n",
      "zdublowany artykuł 2004_1963_Art. 30.txt\n"
     ]
    }
   ],
   "source": [
    "separate_articles_dir = Path(prefix,\"ustawy_osobne_artykuły\")\n",
    "os.makedirs(separate_articles_dir, exist_ok=True)\n",
    "\n",
    "os.chdir(separate_articles_dir)\n",
    "written_articles = []\n",
    "for file in files:\n",
    "    try: \n",
    "        with open(file, \"r\") as ff:\n",
    "            name = file.stem\n",
    "            cnt = ff.read()\n",
    "            findings = regex.finditer(article_regex, cnt)\n",
    "            for match in findings:\n",
    "                article_name = f\"{name}_{match[1].strip()}txt\"  # each article ends with \\. nontheless\n",
    "                if article_name not in written_articles:\n",
    "                    written_articles.append(article_name)\n",
    "                    with open(article_name, \"w\") as ff2:\n",
    "                        ff2.write(match[2])\n",
    "                else:\n",
    "                    print(f\"zdublowany artykuł {article_name}\")\n",
    "    except UnicodeDecodeError as e:\n",
    "        print(f\"problem opening file: {file}\")\n",
    "        print(e)"
   ]
  },
  {
   "cell_type": "markdown",
   "id": "db10f942",
   "metadata": {},
   "source": [
    "### Select passages that do not include any amendments "
   ]
  },
  {
   "cell_type": "code",
   "execution_count": 56,
   "id": "5b331162",
   "metadata": {},
   "outputs": [],
   "source": [
    "amendments_patt = regex.compile(\"\\bwprowadza\\s+się\\s+następujące\\s+zmiany\\b\", regex.UNICODE)"
   ]
  },
  {
   "cell_type": "code",
   "execution_count": 57,
   "id": "3b1fa623",
   "metadata": {
    "collapsed": true
   },
   "outputs": [
    {
     "name": "stdout",
     "output_type": "stream",
     "text": [
      "file with no amendments: /Users/filip/Documents/II_semestr/NLP/ustawy_osobne_artykuły/2001_1229_Art. 36.txt\n",
      "file with no amendments: /Users/filip/Documents/II_semestr/NLP/ustawy_osobne_artykuły/1999_802_Art. 9.txt\n",
      "file with no amendments: /Users/filip/Documents/II_semestr/NLP/ustawy_osobne_artykuły/1995_515_Art. 7.txt\n",
      "file with no amendments: /Users/filip/Documents/II_semestr/NLP/ustawy_osobne_artykuły/1996_56_Art. 4.txt\n",
      "file with no amendments: /Users/filip/Documents/II_semestr/NLP/ustawy_osobne_artykuły/1997_781_Art. 38.txt\n",
      "file with no amendments: /Users/filip/Documents/II_semestr/NLP/ustawy_osobne_artykuły/1996_465_Art. 580.txt\n",
      "file with no amendments: /Users/filip/Documents/II_semestr/NLP/ustawy_osobne_artykuły/1997_753_Art. 56.txt\n",
      "file with no amendments: /Users/filip/Documents/II_semestr/NLP/ustawy_osobne_artykuły/2003_2081_Art. 15.txt\n",
      "file with no amendments: /Users/filip/Documents/II_semestr/NLP/ustawy_osobne_artykuły/2004_285_Art. 35.txt\n",
      "file with no amendments: /Users/filip/Documents/II_semestr/NLP/ustawy_osobne_artykuły/2003_423_Art. 6.txt\n",
      "file with no amendments: /Users/filip/Documents/II_semestr/NLP/ustawy_osobne_artykuły/2004_892_Art. 3.txt\n",
      "file with no amendments: /Users/filip/Documents/II_semestr/NLP/ustawy_osobne_artykuły/2001_1403_Art. 43.txt\n",
      "file with no amendments: /Users/filip/Documents/II_semestr/NLP/ustawy_osobne_artykuły/1997_714_Art. 46.txt\n",
      "file with no amendments: /Users/filip/Documents/II_semestr/NLP/ustawy_osobne_artykuły/2001_1071_Art. 63.txt\n",
      "file with no amendments: /Users/filip/Documents/II_semestr/NLP/ustawy_osobne_artykuły/1999_1256_Art. 14.txt\n",
      "file with no amendments: /Users/filip/Documents/II_semestr/NLP/ustawy_osobne_artykuły/2004_883_Art. 1.txt\n",
      "file with no amendments: /Users/filip/Documents/II_semestr/NLP/ustawy_osobne_artykuły/2001_298_Art. 19.txt\n",
      "file with no amendments: /Users/filip/Documents/II_semestr/NLP/ustawy_osobne_artykuły/2001_18_Art. 130.txt\n",
      "file with no amendments: /Users/filip/Documents/II_semestr/NLP/ustawy_osobne_artykuły/2004_42_Art. 33.txt\n",
      "file with no amendments: /Users/filip/Documents/II_semestr/NLP/ustawy_osobne_artykuły/2001_43_Art. 38.txt\n",
      "file with no amendments: /Users/filip/Documents/II_semestr/NLP/ustawy_osobne_artykuły/1997_253_Art. 1.txt\n",
      "file with no amendments: /Users/filip/Documents/II_semestr/NLP/ustawy_osobne_artykuły/1999_802_Art. 38.txt\n",
      "file with no amendments: /Users/filip/Documents/II_semestr/NLP/ustawy_osobne_artykuły/2001_18_Art. 124.txt\n",
      "file with no amendments: /Users/filip/Documents/II_semestr/NLP/ustawy_osobne_artykuły/2004_42_Art. 27.txt\n",
      "file with no amendments: /Users/filip/Documents/II_semestr/NLP/ustawy_osobne_artykuły/1996_406_Art. 2.txt\n",
      "file with no amendments: /Users/filip/Documents/II_semestr/NLP/ustawy_osobne_artykuły/1997_739_Art. 100.txt\n",
      "file with no amendments: /Users/filip/Documents/II_semestr/NLP/ustawy_osobne_artykuły/2001_1545_Art. 299.txt\n",
      "file with no amendments: /Users/filip/Documents/II_semestr/NLP/ustawy_osobne_artykuły/2004_285_Art. 21.txt\n",
      "file with no amendments: /Users/filip/Documents/II_semestr/NLP/ustawy_osobne_artykuły/1997_714_Art. 52.txt\n",
      "file with no amendments: /Users/filip/Documents/II_semestr/NLP/ustawy_osobne_artykuły/2001_1403_Art. 57.txt\n",
      "file with no amendments: /Users/filip/Documents/II_semestr/NLP/ustawy_osobne_artykuły/2001_1071_Art. 77.txt\n",
      "file with no amendments: /Users/filip/Documents/II_semestr/NLP/ustawy_osobne_artykuły/1996_465_Art. 594.txt\n",
      "file with no amendments: /Users/filip/Documents/II_semestr/NLP/ustawy_osobne_artykuły/2000_1009_Art. 1.txt\n",
      "file with no amendments: /Users/filip/Documents/II_semestr/NLP/ustawy_osobne_artykuły/1997_753_Art. 42.txt\n",
      "file with no amendments: /Users/filip/Documents/II_semestr/NLP/ustawy_osobne_artykuły/2001_1229_Art. 22.txt\n",
      "file with no amendments: /Users/filip/Documents/II_semestr/NLP/ustawy_osobne_artykuły/1994_195_Art. 320.txt\n",
      "file with no amendments: /Users/filip/Documents/II_semestr/NLP/ustawy_osobne_artykuły/2001_18_Art. 29.txt\n",
      "file with no amendments: /Users/filip/Documents/II_semestr/NLP/ustawy_osobne_artykuły/1997_593_Art. 15.txt\n",
      "file with no amendments: /Users/filip/Documents/II_semestr/NLP/ustawy_osobne_artykuły/1997_469_Art. 5.txt\n",
      "file with no amendments: /Users/filip/Documents/II_semestr/NLP/ustawy_osobne_artykuły/1996_190_Art. 5.txt\n",
      "file with no amendments: /Users/filip/Documents/II_semestr/NLP/ustawy_osobne_artykuły/1997_117_Art. 163.txt\n",
      "file with no amendments: /Users/filip/Documents/II_semestr/NLP/ustawy_osobne_artykuły/2004_574_Art. 44.txt\n",
      "file with no amendments: /Users/filip/Documents/II_semestr/NLP/ustawy_osobne_artykuły/2001_1382_Art. 9.txt\n",
      "file with no amendments: /Users/filip/Documents/II_semestr/NLP/ustawy_osobne_artykuły/1997_686_Art. 12.txt\n",
      "file with no amendments: /Users/filip/Documents/II_semestr/NLP/ustawy_osobne_artykuły/2000_580_Art. 12.txt\n",
      "file with no amendments: /Users/filip/Documents/II_semestr/NLP/ustawy_osobne_artykuły/1997_770_Art. 9.txt\n",
      "file with no amendments: /Users/filip/Documents/II_semestr/NLP/ustawy_osobne_artykuły/1994_195_Art. 308.txt\n",
      "file with no amendments: /Users/filip/Documents/II_semestr/NLP/ustawy_osobne_artykuły/2001_906_Art. 10.txt\n",
      "file with no amendments: /Users/filip/Documents/II_semestr/NLP/ustawy_osobne_artykuły/1997_555_Art. 483.txt\n",
      "file with no amendments: /Users/filip/Documents/II_semestr/NLP/ustawy_osobne_artykuły/1997_553_Art. 282.txt\n",
      "file with no amendments: /Users/filip/Documents/II_semestr/NLP/ustawy_osobne_artykuły/1999_802_Art. 10.txt\n",
      "file with no amendments: /Users/filip/Documents/II_semestr/NLP/ustawy_osobne_artykuły/2001_298_Art. 25.txt\n",
      "file with no amendments: /Users/filip/Documents/II_semestr/NLP/ustawy_osobne_artykuły/1999_1279_Art. 2.txt\n",
      "file with no amendments: /Users/filip/Documents/II_semestr/NLP/ustawy_osobne_artykuły/1995_143_Art. 1.txt\n",
      "file with no amendments: /Users/filip/Documents/II_semestr/NLP/ustawy_osobne_artykuły/2004_2776_Art. 53.txt\n",
      "file with no amendments: /Users/filip/Documents/II_semestr/NLP/ustawy_osobne_artykuły/2003_1750_Art. 3.txt\n",
      "file with no amendments: /Users/filip/Documents/II_semestr/NLP/ustawy_osobne_artykuły/2001_1444_Art. 4.txt\n",
      "file with no amendments: /Users/filip/Documents/II_semestr/NLP/ustawy_osobne_artykuły/1997_557_Art. 249.txt\n",
      "file with no amendments: /Users/filip/Documents/II_semestr/NLP/ustawy_osobne_artykuły/2004_1963_Art. 41.txt\n",
      "file with no amendments: /Users/filip/Documents/II_semestr/NLP/ustawy_osobne_artykuły/2001_811_Art. 5.txt\n",
      "file with no amendments: /Users/filip/Documents/II_semestr/NLP/ustawy_osobne_artykuły/1993_646_Art. 3.txt\n",
      "file with no amendments: /Users/filip/Documents/II_semestr/NLP/ustawy_osobne_artykuły/2001_733_Art. 6.txt\n",
      "file with no amendments: /Users/filip/Documents/II_semestr/NLP/ustawy_osobne_artykuły/2001_18_Art. 118.txt\n",
      "file with no amendments: /Users/filip/Documents/II_semestr/NLP/ustawy_osobne_artykuły/2001_298_Art. 31.txt\n",
      "file with no amendments: /Users/filip/Documents/II_semestr/NLP/ustawy_osobne_artykuły/2003_2217_Art. 13.txt\n",
      "file with no amendments: /Users/filip/Documents/II_semestr/NLP/ustawy_osobne_artykuły/2001_43_Art. 10.txt\n",
      "file with no amendments: /Users/filip/Documents/II_semestr/NLP/ustawy_osobne_artykuły/1997_506_Art. 1.txt\n",
      "file with no amendments: /Users/filip/Documents/II_semestr/NLP/ustawy_osobne_artykuły/1997_776_Art. 48.txt\n",
      "file with no amendments: /Users/filip/Documents/II_semestr/NLP/ustawy_osobne_artykuły/1997_555_Art. 497.txt\n",
      "file with no amendments: /Users/filip/Documents/II_semestr/NLP/ustawy_osobne_artykuły/2001_18_Art. 15.txt\n",
      "file with no amendments: /Users/filip/Documents/II_semestr/NLP/ustawy_osobne_artykuły/1997_553_Art. 296.txt\n",
      "file with no amendments: /Users/filip/Documents/II_semestr/NLP/ustawy_osobne_artykuły/2000_1250_Art. 43.txt\n",
      "file with no amendments: /Users/filip/Documents/II_semestr/NLP/ustawy_osobne_artykuły/1997_593_Art. 29.txt\n",
      "file with no amendments: /Users/filip/Documents/II_semestr/NLP/ustawy_osobne_artykuły/1997_781_Art. 10.txt\n",
      "file with no amendments: /Users/filip/Documents/II_semestr/NLP/ustawy_osobne_artykuły/1996_2_Art. 8.txt\n",
      "file with no amendments: /Users/filip/Documents/II_semestr/NLP/ustawy_osobne_artykuły/2003_2256_Art. 2.txt\n",
      "file with no amendments: /Users/filip/Documents/II_semestr/NLP/ustawy_osobne_artykuły/1997_117_Art. 177.txt\n",
      "file with no amendments: /Users/filip/Documents/II_semestr/NLP/ustawy_osobne_artykuły/2004_574_Art. 50.txt\n",
      "file with no amendments: /Users/filip/Documents/II_semestr/NLP/ustawy_osobne_artykuły/2004_293_Art. 8.txt\n",
      "file with no amendments: /Users/filip/Documents/II_semestr/NLP/ustawy_osobne_artykuły/2004_291_Art.\n",
      "7.txt\n",
      "file with no amendments: /Users/filip/Documents/II_semestr/NLP/ustawy_osobne_artykuły/2001_763_Art. 48.txt\n",
      "file with no amendments: /Users/filip/Documents/II_semestr/NLP/ustawy_osobne_artykuły/1996_465_Art. 543.txt\n",
      "file with no amendments: /Users/filip/Documents/II_semestr/NLP/ustawy_osobne_artykuły/2001_627_Art. 235.txt\n",
      "file with no amendments: /Users/filip/Documents/II_semestr/NLP/ustawy_osobne_artykuły/1996_465_Art. 48.txt\n",
      "file with no amendments: /Users/filip/Documents/II_semestr/NLP/ustawy_osobne_artykuły/1996_474_Art. 21.txt\n",
      "file with no amendments: /Users/filip/Documents/II_semestr/NLP/ustawy_osobne_artykuły/1999_930_Art. 118.txt\n",
      "file with no amendments: /Users/filip/Documents/II_semestr/NLP/ustawy_osobne_artykuły/2001_1403_Art. 8.txt\n",
      "file with no amendments: /Users/filip/Documents/II_semestr/NLP/ustawy_osobne_artykuły/1994_592_Art. 9.txt\n",
      "file with no amendments: /Users/filip/Documents/II_semestr/NLP/ustawy_osobne_artykuły/1996_199_Art. 15.txt\n",
      "file with no amendments: /Users/filip/Documents/II_semestr/NLP/ustawy_osobne_artykuły/2001_1409_Art. 33.txt\n",
      "file with no amendments: /Users/filip/Documents/II_semestr/NLP/ustawy_osobne_artykuły/1994_536_Art. 4.txt\n",
      "file with no amendments: /Users/filip/Documents/II_semestr/NLP/ustawy_osobne_artykuły/1997_349_Art. 20.txt\n",
      "file with no amendments: /Users/filip/Documents/II_semestr/NLP/ustawy_osobne_artykuły/2000_238_Art. 5.txt\n",
      "file with no amendments: /Users/filip/Documents/II_semestr/NLP/ustawy_osobne_artykuły/1996_465_Art. 225.txt\n",
      "file with no amendments: /Users/filip/Documents/II_semestr/NLP/ustawy_osobne_artykuły/2004_880_Art. 24.txt\n",
      "file with no amendments: /Users/filip/Documents/II_semestr/NLP/ustawy_osobne_artykuły/2001_44_Art. 34.txt\n",
      "file with no amendments: /Users/filip/Documents/II_semestr/NLP/ustawy_osobne_artykuły/1998_1118_Art. 114.txt\n",
      "file with no amendments: /Users/filip/Documents/II_semestr/NLP/ustawy_osobne_artykuły/2004_1377_Art. 11.txt\n",
      "file with no amendments: /Users/filip/Documents/II_semestr/NLP/ustawy_osobne_artykuły/1997_349_Art. 34.txt\n"
     ]
    }
   ],
   "source": [
    "separate_articles_dir = Path(prefix,\"ustawy_osobne_artykuły\").glob(\"*\")\n",
    "valid_articles = []\n",
    "count = 1\n",
    "\n",
    "for file in separate_articles_dir: \n",
    "    if count == 100:\n",
    "        break\n",
    "    with open(file, \"r\") as ff:\n",
    "        if not regex.search(amendments_patt, ff.read()):\n",
    "            print(f\"file with no amendments: {ff.name}\")\n",
    "            valid_articles.append(ff.name)\n",
    "            count += 1"
   ]
  },
  {
   "cell_type": "code",
   "execution_count": 63,
   "id": "ae1c370b",
   "metadata": {
    "collapsed": true
   },
   "outputs": [
    {
     "name": "stdout",
     "output_type": "stream",
     "text": [
      "/Users/filip/Documents/II_semestr/NLP/ustawy_osobne_artykuły/1997_117_Art. 163.txt\n",
      "/Users/filip/Documents/II_semestr/NLP/ustawy_osobne_artykuły/2001_298_Art. 31.txt\n",
      "/Users/filip/Documents/II_semestr/NLP/ustawy_osobne_artykuły/1997_553_Art. 282.txt\n",
      "/Users/filip/Documents/II_semestr/NLP/ustawy_osobne_artykuły/1999_930_Art. 118.txt\n",
      "/Users/filip/Documents/II_semestr/NLP/ustawy_osobne_artykuły/2001_733_Art. 6.txt\n",
      "/Users/filip/Documents/II_semestr/NLP/ustawy_osobne_artykuły/1999_802_Art. 9.txt\n",
      "/Users/filip/Documents/II_semestr/NLP/ustawy_osobne_artykuły/2004_42_Art. 27.txt\n",
      "/Users/filip/Documents/II_semestr/NLP/ustawy_osobne_artykuły/2000_1250_Art. 43.txt\n",
      "/Users/filip/Documents/II_semestr/NLP/ustawy_osobne_artykuły/1994_592_Art. 9.txt\n",
      "/Users/filip/Documents/II_semestr/NLP/ustawy_osobne_artykuły/2004_883_Art. 1.txt\n",
      "/Users/filip/Documents/II_semestr/NLP/ustawy_osobne_artykuły/2001_1545_Art. 299.txt\n",
      "/Users/filip/Documents/II_semestr/NLP/ustawy_osobne_artykuły/1997_739_Art. 100.txt\n",
      "/Users/filip/Documents/II_semestr/NLP/ustawy_osobne_artykuły/2001_1071_Art. 77.txt\n",
      "/Users/filip/Documents/II_semestr/NLP/ustawy_osobne_artykuły/2004_291_Art.\n",
      "7.txt\n",
      "/Users/filip/Documents/II_semestr/NLP/ustawy_osobne_artykuły/1997_557_Art. 249.txt\n",
      "/Users/filip/Documents/II_semestr/NLP/ustawy_osobne_artykuły/1996_465_Art. 580.txt\n",
      "/Users/filip/Documents/II_semestr/NLP/ustawy_osobne_artykuły/2004_574_Art. 50.txt\n",
      "/Users/filip/Documents/II_semestr/NLP/ustawy_osobne_artykuły/1997_753_Art. 42.txt\n",
      "/Users/filip/Documents/II_semestr/NLP/ustawy_osobne_artykuły/1996_406_Art. 2.txt\n",
      "/Users/filip/Documents/II_semestr/NLP/ustawy_osobne_artykuły/1997_776_Art. 48.txt\n",
      "/Users/filip/Documents/II_semestr/NLP/ustawy_osobne_artykuły/2001_18_Art. 130.txt\n",
      "/Users/filip/Documents/II_semestr/NLP/ustawy_osobne_artykuły/2001_18_Art. 124.txt\n",
      "/Users/filip/Documents/II_semestr/NLP/ustawy_osobne_artykuły/1995_143_Art. 1.txt\n",
      "/Users/filip/Documents/II_semestr/NLP/ustawy_osobne_artykuły/2001_1403_Art. 43.txt\n",
      "/Users/filip/Documents/II_semestr/NLP/ustawy_osobne_artykuły/1996_199_Art. 15.txt\n",
      "/Users/filip/Documents/II_semestr/NLP/ustawy_osobne_artykuły/2004_574_Art. 44.txt\n",
      "/Users/filip/Documents/II_semestr/NLP/ustawy_osobne_artykuły/1996_465_Art. 594.txt\n",
      "/Users/filip/Documents/II_semestr/NLP/ustawy_osobne_artykuły/1997_714_Art. 52.txt\n",
      "/Users/filip/Documents/II_semestr/NLP/ustawy_osobne_artykuły/2004_42_Art. 33.txt\n",
      "/Users/filip/Documents/II_semestr/NLP/ustawy_osobne_artykuły/1996_190_Art. 5.txt\n"
     ]
    }
   ],
   "source": [
    "## random 30 sample\n",
    "articles_30 = np.random.choice(valid_articles, size=30, replace=False)\n",
    "for i in articles_30:\n",
    "    print(i)"
   ]
  },
  {
   "cell_type": "code",
   "execution_count": 62,
   "id": "fa5a9457",
   "metadata": {},
   "outputs": [
    {
     "data": {
      "text/plain": [
       "30"
      ]
     },
     "execution_count": 62,
     "metadata": {},
     "output_type": "execute_result"
    }
   ],
   "source": []
  },
  {
   "cell_type": "markdown",
   "id": "021e8d53",
   "metadata": {},
   "source": [
    "### configure ES document store"
   ]
  },
  {
   "cell_type": "code",
   "execution_count": 47,
   "id": "a7e25395",
   "metadata": {},
   "outputs": [
    {
     "name": "stdout",
     "output_type": "stream",
     "text": [
      "cannot read /Users/filip/Documents/II_semestr/NLP/ustawy_osobne_artykuły/.DS_Store, problem is:\n",
      "'utf-8' codec can't decode byte 0x80 in position 3131: invalid start byte\n"
     ]
    }
   ],
   "source": [
    "articles_iter = separate_articles_dir.glob(\"*\")\n",
    "es_documents = []\n",
    "for art in articles_iter:\n",
    "    with open(art, \"r\") as f:\n",
    "        try:\n",
    "            es_documents.append({'content': f.read(), 'meta': {'name': art.stem}})\n",
    "        except UnicodeDecodeError as e:\n",
    "            print(f\"cannot read {art}, problem is:\\n{e}\")"
   ]
  },
  {
   "cell_type": "code",
   "execution_count": 53,
   "id": "13b6dc03",
   "metadata": {},
   "outputs": [],
   "source": [
    "# DocumentStore: holds all your data\n",
    "document_store = ElasticsearchDocumentStore(analyzer=\"morfologik\")\n",
    "\n",
    "document_store.write_documents(es_documents)"
   ]
  },
  {
   "cell_type": "code",
   "execution_count": 92,
   "id": "d2c602e2",
   "metadata": {},
   "outputs": [
    {
     "name": "stderr",
     "output_type": "stream",
     "text": [
      "INFO - haystack.modeling.utils -  Using devices: CPU\n",
      "INFO - haystack.modeling.utils -  Number of GPUs: 0\n",
      "Some weights of BertForQuestionAnswering were not initialized from the model checkpoint at enelpol/czywiesz-question and are newly initialized: ['qa_outputs.weight', 'qa_outputs.bias']\n",
      "You should probably TRAIN this model on a down-stream task to be able to use it for predictions and inference.\n"
     ]
    }
   ],
   "source": [
    "### ask questions \n",
    "retriever = ElasticsearchRetriever(document_store)\n",
    "#model_name = \"deepset/roberta-base-squad2\"\n",
    "model_name = \"enelpol/czywiesz-question\"\n",
    "reader = TransformersReader(model_name, use_gpu=True)"
   ]
  },
  {
   "cell_type": "code",
   "execution_count": 93,
   "id": "1149b466",
   "metadata": {},
   "outputs": [],
   "source": [
    "pipe = ExtractiveQAPipeline(reader, retriever)\n",
    "\n",
    "# Voilà! Ask a question!\n",
    "question = \"Jakie są organy administracji rybołóstwa morskiego?\"\n",
    "prediction = pipe.run(query=question, \n",
    "                      params={\"Retriever\": {\"top_k\": 3}, \"Reader\": {\"top_k\": 3}}\n",
    "                     )"
   ]
  },
  {
   "cell_type": "code",
   "execution_count": null,
   "id": "63c94f08",
   "metadata": {},
   "outputs": [],
   "source": []
  },
  {
   "cell_type": "code",
   "execution_count": 94,
   "id": "020f4688",
   "metadata": {
    "collapsed": true
   },
   "outputs": [
    {
     "name": "stdout",
     "output_type": "stream",
     "text": [
      "\n",
      "Query: Jakie są organy administracji rybołóstwa morskiego?\n",
      "Answers:\n",
      "[   <Answer {'answer': '', 'type': 'extractive', 'score': 0.5000334337829101, 'context': None, 'offsets_in_document': [{'start': 0, 'end': 0}], 'offsets_in_context': [{'start': 0, 'end': 0}], 'document_id': None, 'meta': {}}>,\n",
      "    <Answer {'answer': 'Okręgowe inspektoraty rybołóstwa', 'type': 'extractive', 'score': 0.0010166644351556897, 'context': 'Okręgowe inspektoraty rybołóstwa morskiego przejmą od urzędów morskich, wraz z\\naktami, prowadzenie spr', 'offsets_in_document': [{'start': 0, 'end': 32}], 'offsets_in_context': [{'start': 0, 'end': 32}], 'document_id': 'a71b85916b2ab0e031c1311f37544456', 'meta': {'name': '1999_778_Art. 18'}}>,\n",
      "    <Answer {'answer': 'rybołówstwa', 'type': 'extractive', 'score': 0.0009194017038680613, 'context': 'ałania, które nie zostały\\nzakończone do dnia likwidacji inspektoratów rybołówstwa morskiego.', 'offsets_in_document': [{'start': 196, 'end': 207}], 'offsets_in_context': [{'start': 70, 'end': 81}], 'document_id': 'a71b85916b2ab0e031c1311f37544456', 'meta': {'name': '1999_778_Art. 18'}}>]\n"
     ]
    }
   ],
   "source": [
    "print_answers(prediction)"
   ]
  },
  {
   "cell_type": "code",
   "execution_count": 95,
   "id": "45d93aea",
   "metadata": {},
   "outputs": [],
   "source": [
    "pipe = ExtractiveQAPipeline(reader, retriever)\n",
    "\n",
    "# Voilà! Ask a question!\n",
    "question = \"Czy do aplikantów kuratorskich stosuje się przepis art. 16?\"\n",
    "prediction2 = pipe.run(query=question, \n",
    "                      params={\"Retriever\": {\"top_k\": 3}, \"Reader\": {\"top_k\": 3}}\n",
    "                     )"
   ]
  },
  {
   "cell_type": "code",
   "execution_count": 96,
   "id": "8ee581ee",
   "metadata": {},
   "outputs": [
    {
     "name": "stdout",
     "output_type": "stream",
     "text": [
      "\n",
      "Query: Czy do aplikantów kuratorskich stosuje się przepis art. 16?\n",
      "Answers:\n",
      "[   <Answer {'answer': '', 'type': 'extractive', 'score': 0.5000951933388801, 'context': None, 'offsets_in_document': [{'start': 0, 'end': 0}], 'offsets_in_context': [{'start': 0, 'end': 0}], 'document_id': None, 'meta': {}}>,\n",
      "    <Answer {'answer': 'aplikantów', 'type': 'extractive', 'score': 0.0029589703772217035, 'context': 'Do aplikantów kuratorskich stosuje się odpowiednio przepisy art. 14 ust. 1 i 6,\\nart', 'offsets_in_document': [{'start': 3, 'end': 13}], 'offsets_in_context': [{'start': 3, 'end': 13}], 'document_id': '7ddda21dec4c06210d6bf4e826ac6afb', 'meta': {'name': '2001_1071_Art. 77'}}>,\n",
      "    <Answer {'answer': 'aplikantów kuratorskich stosuje się odpowiednio przepisy art', 'type': 'extractive', 'score': 0.0025881691835820675, 'context': 'Do aplikantów kuratorskich stosuje się odpowiednio przepisy art. 14 ust. 1 i 6,\\nart. 19 i 20.', 'offsets_in_document': [{'start': 3, 'end': 63}], 'offsets_in_context': [{'start': 3, 'end': 63}], 'document_id': '7ddda21dec4c06210d6bf4e826ac6afb', 'meta': {'name': '2001_1071_Art. 77'}}>]\n"
     ]
    }
   ],
   "source": [
    "print_answers(prediction2)"
   ]
  },
  {
   "cell_type": "code",
   "execution_count": 90,
   "id": "8dc5e38a",
   "metadata": {},
   "outputs": [
    {
     "name": "stderr",
     "output_type": "stream",
     "text": [
      "/Users/filip/virtenv_8_2/lib/python3.8/site-packages/transformers/pipelines/question_answering.py:189: UserWarning: topk parameter is deprecated, use top_k instead\n",
      "  warnings.warn(\"topk parameter is deprecated, use top_k instead\", UserWarning)\n"
     ]
    }
   ],
   "source": [
    "pipe = ExtractiveQAPipeline(reader, retriever)\n",
    "\n",
    "# Voilà! Ask a question!\n",
    "question = \"Czy można odwołać się od decyzji wydawanych przez komendantów granicznych placówek kontrolnych Straży Granicznej?\"\n",
    "prediction3 = pipe.run(query=question, \n",
    "                      params={\"Retriever\": {\"top_k\": 3}, \"Reader\": {\"top_k\": 3}}\n",
    "                     )"
   ]
  },
  {
   "cell_type": "code",
   "execution_count": 91,
   "id": "b4c35c27",
   "metadata": {
    "collapsed": true
   },
   "outputs": [
    {
     "name": "stdout",
     "output_type": "stream",
     "text": [
      "\n",
      "Query: Czy można odwołać się od decyzji wydawanych przez komendantów granicznych placówek kontrolnych Straży Granicznej?\n",
      "Answers:\n",
      "[   <Answer {'answer': '', 'type': 'extractive', 'score': 0.500011076149347, 'context': None, 'offsets_in_document': [{'start': 0, 'end': 0}], 'offsets_in_context': [{'start': 0, 'end': 0}], 'document_id': None, 'meta': {}}>,\n",
      "    <Answer {'answer': 'względu na miejsce\\n     pobytu cudzoziemca lub komendanci granicznych placówek kontrolnych\\n     Straży Granicznej,', 'type': 'extractive', 'score': 0.0003339773684274405, 'context': 'Granicznej,\\n   2) o unieważnieniu wizy wydają wojewodowie właściwi ze względu na miejsce\\n     pobytu cudzoziemca lub komendanci granicznych placówek kontrolnych\\n     Straży Granicznej,\\n   3) o określeniu czasu pobytu, o którym mowa w art. 13 ust. 4, wyda', 'offsets_in_document': [{'start': 205, 'end': 319}], 'offsets_in_context': [{'start': 70, 'end': 184}], 'document_id': 'f86fde1fe025ed2656e9d5b15d453cc7', 'meta': {'name': '1997_739_Art. 80'}}>,\n",
      "    <Answer {'answer': 'pobytu cudzoziemca lub komendanci granicznych placówek kontrolnych\\n     Straży Granicznej,\\n   3)', 'type': 'extractive', 'score': 0.0003239073557779193, 'context': 'ważnieniu wizy wydają wojewodowie właściwi ze względu na miejsce\\n     pobytu cudzoziemca lub komendanci granicznych placówek kontrolnych\\n     Straży Granicznej,\\n   3) o określeniu czasu pobytu, o którym mowa w art. 13 ust. 4, wydają kom', 'offsets_in_document': [{'start': 229, 'end': 325}], 'offsets_in_context': [{'start': 70, 'end': 166}], 'document_id': 'f86fde1fe025ed2656e9d5b15d453cc7', 'meta': {'name': '1997_739_Art. 80'}}>]\n"
     ]
    }
   ],
   "source": [
    "print_answers(prediction3)"
   ]
  },
  {
   "cell_type": "code",
   "execution_count": 99,
   "id": "f45b118a",
   "metadata": {},
   "outputs": [],
   "source": [
    "pipe = ExtractiveQAPipeline(reader, retriever)\n",
    "\n",
    "# Voilà! Ask a question!\n",
    "question = \"W jakim przypadku szef BOR przyznaje uposażenie oraz inne świadczenia przysługujące w czasie oddelegowania?\"\n",
    "prediction4 = pipe.run(query=question, \n",
    "                      params={\"Retriever\": {\"top_k\": 3}, \"Reader\": {\"top_k\": 3}}\n",
    "                     )"
   ]
  },
  {
   "cell_type": "code",
   "execution_count": null,
   "id": "a0f0b82b",
   "metadata": {},
   "outputs": [],
   "source": []
  },
  {
   "cell_type": "code",
   "execution_count": null,
   "id": "36a9e592",
   "metadata": {},
   "outputs": [],
   "source": []
  },
  {
   "cell_type": "code",
   "execution_count": null,
   "id": "9b6a6b41",
   "metadata": {},
   "outputs": [],
   "source": []
  },
  {
   "cell_type": "code",
   "execution_count": null,
   "id": "bd095bb4",
   "metadata": {},
   "outputs": [],
   "source": []
  },
  {
   "cell_type": "code",
   "execution_count": null,
   "id": "4bcf5336",
   "metadata": {},
   "outputs": [],
   "source": []
  },
  {
   "cell_type": "code",
   "execution_count": null,
   "id": "a5e7c3e8",
   "metadata": {},
   "outputs": [],
   "source": []
  },
  {
   "cell_type": "code",
   "execution_count": null,
   "id": "c96b8fc7",
   "metadata": {},
   "outputs": [],
   "source": []
  },
  {
   "cell_type": "code",
   "execution_count": null,
   "id": "4301e842",
   "metadata": {},
   "outputs": [],
   "source": []
  }
 ],
 "metadata": {
  "kernelspec": {
   "display_name": "Python 3 (ipykernel)",
   "language": "python",
   "name": "python3"
  },
  "language_info": {
   "codemirror_mode": {
    "name": "ipython",
    "version": 3
   },
   "file_extension": ".py",
   "mimetype": "text/x-python",
   "name": "python",
   "nbconvert_exporter": "python",
   "pygments_lexer": "ipython3",
   "version": "3.8.12"
  }
 },
 "nbformat": 4,
 "nbformat_minor": 5
}
