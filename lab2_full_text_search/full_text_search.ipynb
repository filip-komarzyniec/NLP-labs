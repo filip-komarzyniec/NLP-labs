{
 "cells": [
  {
   "cell_type": "code",
   "execution_count": 1,
   "id": "c966380c",
   "metadata": {},
   "outputs": [],
   "source": [
    "## imports\n",
    "import requests\n",
    "from pathlib import Path\n",
    "%reload_ext restmagic"
   ]
  },
  {
   "cell_type": "markdown",
   "id": "f77add50",
   "metadata": {},
   "source": [
    "### ES analyzer for polish documents"
   ]
  },
  {
   "cell_type": "markdown",
   "id": "23b75ac9",
   "metadata": {},
   "source": [
    "```json\n",
    "{\n",
    "  \"settings\": {\n",
    "    \"analysis\": {\n",
    "      \"analyzer\": {\n",
    "        \"nlp-analyzer\": {\n",
    "          \"type\": \"morfologik\",\n",
    "          \"tokenizer\": \"standard\",\n",
    "          \"filter\": [\n",
    "            \"morfologik_stem\",\n",
    "            \"synonym\",\n",
    "            \"lowercase\"\n",
    "          ]\n",
    "        }\n",
    "      },\n",
    "      \"filter\": {\n",
    "        \"synonym\": {\n",
    "        \"type\": \"synonym\",\n",
    "        \"synonyms_path\": \"nlp_synonimy.txt\"\n",
    "  }\n",
    "    }\n",
    "  }\n",
    "}\n",
    "\n",
    "```\n",
    "gdzie zawartość pliku _nlp_synonimy.txt_ to:\n",
    "```\n",
    "kpk => kodeks postępowania karnego\n",
    "kpc => kodeks postępowania cywilnego\n",
    "kk => kodeks karny\n",
    "kc => kodeks cywilny\n",
    "```"
   ]
  },
  {
   "cell_type": "markdown",
   "id": "8c2112cd",
   "metadata": {},
   "source": [
    "### create index for polish bills"
   ]
  },
  {
   "cell_type": "code",
   "execution_count": 2,
   "id": "69f1d466",
   "metadata": {
    "collapsed": true
   },
   "outputs": [
    {
     "data": {
      "text/plain": [
       "{\n",
       "  \"name\": \"macbook-pro-filip.home\",\n",
       "  \"cluster_name\": \"elasticsearch_filip\",\n",
       "  \"cluster_uuid\": \"6P5ejRjlSzOlnCAg2q-hDA\",\n",
       "  \"version\": {\n",
       "    \"number\": \"7.10.1\",\n",
       "    \"build_flavor\": \"default\",\n",
       "    \"build_type\": \"tar\",\n",
       "    \"build_hash\": \"1c34507e66d7db1211f66f3513706fdf548736aa\",\n",
       "    \"build_date\": \"2020-12-05T01:00:33.671820Z\",\n",
       "    \"build_snapshot\": false,\n",
       "    \"lucene_version\": \"8.7.0\",\n",
       "    \"minimum_wire_compatibility_version\": \"6.8.0\",\n",
       "    \"minimum_index_compatibility_version\": \"6.0.0-beta1\"\n",
       "  },\n",
       "  \"tagline\": \"You Know, for Search\"\n",
       "}"
      ]
     },
     "metadata": {},
     "output_type": "display_data"
    },
    {
     "data": {
      "text/plain": [
       "<Response [200]>"
      ]
     },
     "execution_count": 2,
     "metadata": {},
     "output_type": "execute_result"
    }
   ],
   "source": [
    "%rest GET http://localhost:9200"
   ]
  },
  {
   "cell_type": "code",
   "execution_count": 18,
   "id": "279ad096",
   "metadata": {},
   "outputs": [
    {
     "data": {
      "text/plain": [
       "{\n",
       "  \"acknowledged\": true,\n",
       "  \"shards_acknowledged\": true,\n",
       "  \"index\": \"ustawy\"\n",
       "}"
      ]
     },
     "metadata": {},
     "output_type": "display_data"
    },
    {
     "data": {
      "text/plain": [
       "<Response [200]>"
      ]
     },
     "execution_count": 18,
     "metadata": {},
     "output_type": "execute_result"
    }
   ],
   "source": [
    "%%rest PUT http://localhost:9200/ustawy\n",
    "Content-Type: application/json\n",
    "\n",
    "{\n",
    "  \"settings\": {\n",
    "    \"analysis\": {\n",
    "      \"analyzer\": {\n",
    "        \"nlp-analyzer\": {\n",
    "          \"type\": \"morfologik\",\n",
    "          \"tokenizer\": \"standard\",\n",
    "          \"filter\": [\n",
    "            \"morfologik_stem\",\n",
    "            \"synonym\",\n",
    "            \"lowercase\"\n",
    "          ]\n",
    "        }\n",
    "      },\n",
    "      \"filter\": {\n",
    "        \"synonym\": {\n",
    "        \"type\": \"synonym\",\n",
    "        \"synonyms_path\": \"nlp_synonimy.txt\"\n",
    "  }\n",
    "    }\n",
    "  }\n",
    "  },\n",
    "  \"mappings\": {\n",
    "    \"properties\": {\n",
    "      \"content\": {\n",
    "        \"type\": \"text\",\n",
    "        \"analyzer\": \"nlp-analyzer\"\n",
    "      }\n",
    "    }\n",
    "  }\n",
    "}"
   ]
  },
  {
   "cell_type": "code",
   "execution_count": 29,
   "id": "ab8e60d2",
   "metadata": {
    "collapsed": true
   },
   "outputs": [
    {
     "data": {
      "text/plain": [
       "{\n",
       "  \"tokens\": [\n",
       "    {\n",
       "      \"token\": \"ustawa\",\n",
       "      \"start_offset\": 0,\n",
       "      \"end_offset\": 6,\n",
       "      \"type\": \"<ALPHANUM>\",\n",
       "      \"position\": 0\n",
       "    },\n",
       "    {\n",
       "      \"token\": \"o\",\n",
       "      \"start_offset\": 7,\n",
       "      \"end_offset\": 8,\n",
       "      \"type\": \"<ALPHANUM>\",\n",
       "      \"position\": 1\n",
       "    },\n",
       "    {\n",
       "      \"token\": \"kk\",\n",
       "      \"start_offset\": 9,\n",
       "      \"end_offset\": 11,\n",
       "      \"type\": \"<ALPHANUM>\",\n",
       "      \"position\": 2\n",
       "    },\n",
       "    {\n",
       "      \"token\": \"i\",\n",
       "      \"start_offset\": 12,\n",
       "      \"end_offset\": 13,\n",
       "      \"type\": \"<ALPHANUM>\",\n",
       "      \"position\": 3\n",
       "    },\n",
       "    {\n",
       "      \"token\": \"nowym\",\n",
       "      \"start_offset\": 14,\n",
       "      \"end_offset\": 19,\n",
       "      \"type\": \"<ALPHANUM>\",\n",
       "      \"position\": 4\n",
       "    },\n",
       "    {\n",
       "      \"token\": \"polskim\",\n",
       "      \"start_offset\": 20,\n",
       "      \"end_offset\": 27,\n",
       "      \"type\": \"<ALPHANUM>\",\n",
       "      \"position\": 5\n",
       "    },\n",
       "    {\n",
       "      \"token\": \"ładzie\",\n",
       "      \"start_offset\": 28,\n",
       "      \"end_offset\": 34,\n",
       "      \"type\": \"<ALPHANUM>\",\n",
       "      \"position\": 6\n",
       "    }\n",
       "  ]\n",
       "}"
      ]
     },
     "metadata": {},
     "output_type": "display_data"
    },
    {
     "data": {
      "text/plain": [
       "<Response [200]>"
      ]
     },
     "execution_count": 29,
     "metadata": {},
     "output_type": "execute_result"
    }
   ],
   "source": [
    "%%rest GET http://localhost:9200/ustawy/_analyze\n",
    "Content-Type: application/json\n",
    "    \n",
    "{\n",
    "    \"text\": \"Ustawa o nowym polskim ładzie jest do reformy\"\n",
    "}"
   ]
  },
  {
   "cell_type": "markdown",
   "id": "d3101c3d",
   "metadata": {},
   "source": [
    "### Load all bills into ES "
   ]
  },
  {
   "cell_type": "code",
   "execution_count": 47,
   "id": "a2408766",
   "metadata": {},
   "outputs": [],
   "source": [
    "root_dir = \"../../\"\n",
    "files = Path(root_dir, \"ustawy\").glob(\"*\")\n",
    "\n",
    "for f in files:\n",
    "    with open(f, \"r\", encoding=\"UTF-8\") as ff:\n",
    "        content = ff.read()\n",
    "    \n",
    "    text_id = f.stem\n",
    "    \n",
    "    requests.put(f\"http://localhost:9200/ustawy/_doc/{text_id}\", json={\"content\": content})"
   ]
  },
  {
   "cell_type": "code",
   "execution_count": 31,
   "id": "13beeda3",
   "metadata": {},
   "outputs": [],
   "source": [
    "root_dir = \"../../\"\n",
    "files = Path(root_dir, \"ustawy\").glob(\"*\")"
   ]
  },
  {
   "cell_type": "code",
   "execution_count": 46,
   "id": "845c1ed9",
   "metadata": {},
   "outputs": [
    {
     "data": {
      "text/plain": [
       "'.txt'"
      ]
     },
     "execution_count": 46,
     "metadata": {},
     "output_type": "execute_result"
    }
   ],
   "source": [
    "a = next(files)\n",
    "a."
   ]
  },
  {
   "cell_type": "markdown",
   "id": "789efba4",
   "metadata": {},
   "source": [
    "### acts containing word ustawa in any form "
   ]
  },
  {
   "cell_type": "code",
   "execution_count": 3,
   "id": "5351d0bb",
   "metadata": {
    "collapsed": true
   },
   "outputs": [
    {
     "data": {
      "text/plain": [
       "{\n",
       "  \"hits\": {\n",
       "    \"total\": {\n",
       "      \"value\": 1178\n",
       "    }\n",
       "  }\n",
       "}"
      ]
     },
     "metadata": {},
     "output_type": "display_data"
    },
    {
     "data": {
      "text/plain": [
       "<Response [200]>"
      ]
     },
     "execution_count": 3,
     "metadata": {},
     "output_type": "execute_result"
    }
   ],
   "source": [
    "%%rest GET http://localhost:9200/ustawy/_search?filter_path=hits.total.value\n",
    "Content-Type: application/json\n",
    "    \n",
    "{\n",
    "  \"query\": {\n",
    "    \"match\": {\n",
    "      \"content\": \"ustawa\"\n",
    "    }\n",
    "  }\n",
    "}"
   ]
  },
  {
   "cell_type": "markdown",
   "id": "0db029d7",
   "metadata": {},
   "source": [
    "### search for **ustawa** form of word ustawa"
   ]
  },
  {
   "cell_type": "markdown",
   "id": "aaf26085",
   "metadata": {},
   "source": [
    "using termvectors here and providing an artificial doc consisting of this one particular word I want to get count of"
   ]
  },
  {
   "cell_type": "code",
   "execution_count": 4,
   "id": "dc530717",
   "metadata": {
    "collapsed": true
   },
   "outputs": [
    {
     "data": {
      "text/plain": [
       "{\n",
       "  \"_index\": \"ustawy\",\n",
       "  \"_type\": \"_doc\",\n",
       "  \"_version\": 0,\n",
       "  \"found\": true,\n",
       "  \"took\": 42,\n",
       "  \"term_vectors\": {\n",
       "    \"content\": {\n",
       "      \"terms\": {\n",
       "        \"ustawa\": {\n",
       "          \"doc_freq\": 1178,\n",
       "          \"ttf\": 24934,\n",
       "          \"term_freq\": 1\n",
       "        }\n",
       "      }\n",
       "    }\n",
       "  }\n",
       "}"
      ]
     },
     "metadata": {},
     "output_type": "display_data"
    },
    {
     "data": {
      "text/plain": [
       "<Response [200]>"
      ]
     },
     "execution_count": 4,
     "metadata": {},
     "output_type": "execute_result"
    }
   ],
   "source": [
    "%%rest GET http://localhost:9200/ustawy/_termvectors\n",
    "Content-Type: application/json\n",
    "\n",
    "{\n",
    "  \"doc\" : {\n",
    "    \"content\": \"ustawa\"\n",
    "  },\n",
    "  \"offsets\": false,\n",
    "  \"positions\": false,\n",
    "  \"field_statistics\": false,\n",
    "  \"term_statistics\": true\n",
    "}"
   ]
  },
  {
   "cell_type": "markdown",
   "id": "3ab3f206",
   "metadata": {},
   "source": [
    "### search for **ustaw** form of word ustawa"
   ]
  },
  {
   "cell_type": "code",
   "execution_count": 5,
   "id": "47cb5253",
   "metadata": {
    "collapsed": true
   },
   "outputs": [
    {
     "data": {
      "text/plain": [
       "{\n",
       "  \"_index\": \"ustawy\",\n",
       "  \"_type\": \"_doc\",\n",
       "  \"_version\": 0,\n",
       "  \"found\": true,\n",
       "  \"took\": 1,\n",
       "  \"term_vectors\": {\n",
       "    \"content\": {\n",
       "      \"terms\": {\n",
       "        \"ustawa\": {\n",
       "          \"doc_freq\": 1178,\n",
       "          \"ttf\": 24934,\n",
       "          \"term_freq\": 1\n",
       "        },\n",
       "        \"ustawić\": {\n",
       "          \"doc_freq\": 378,\n",
       "          \"ttf\": 913,\n",
       "          \"term_freq\": 1\n",
       "        }\n",
       "      }\n",
       "    }\n",
       "  }\n",
       "}"
      ]
     },
     "metadata": {},
     "output_type": "display_data"
    },
    {
     "data": {
      "text/plain": [
       "<Response [200]>"
      ]
     },
     "execution_count": 5,
     "metadata": {},
     "output_type": "execute_result"
    }
   ],
   "source": [
    "%%rest GET http://localhost:9200/ustawy/_termvectors\n",
    "Content-Type: application/json\n",
    "\n",
    "{\n",
    "  \"doc\" : {\n",
    "    \"content\": \"ustaw\"\n",
    "  },\n",
    "  \"offsets\": false,\n",
    "  \"positions\": false,\n",
    "  \"field_statistics\": false,\n",
    "  \"term_statistics\": true\n",
    "}"
   ]
  },
  {
   "cell_type": "markdown",
   "id": "b2393c88",
   "metadata": {},
   "source": [
    "The same results as above which makes sense because I am not puttiing restrictions on other inflectional forms"
   ]
  },
  {
   "cell_type": "markdown",
   "id": "5ed4084b",
   "metadata": {},
   "source": [
    "### search for phrase **kodeks postępowania cywilnego** in this specified order"
   ]
  },
  {
   "cell_type": "code",
   "execution_count": 6,
   "id": "4dec1562",
   "metadata": {},
   "outputs": [
    {
     "data": {
      "text/plain": [
       "{\n",
       "  \"hits\": {\n",
       "    \"total\": {\n",
       "      \"value\": 99\n",
       "    }\n",
       "  }\n",
       "}"
      ]
     },
     "metadata": {},
     "output_type": "display_data"
    },
    {
     "data": {
      "text/plain": [
       "<Response [200]>"
      ]
     },
     "execution_count": 6,
     "metadata": {},
     "output_type": "execute_result"
    }
   ],
   "source": [
    "%%rest GET http://localhost:9200/ustawy/_search?filter_path=hits.total.value\n",
    "Content-Type: application/json\n",
    "\n",
    "{\n",
    "  \"query\": {\n",
    "    \"match_phrase\": {\n",
    "      \"content\": \"kodeks postępowania cywilnego\"\n",
    "    }\n",
    "  }\n",
    "}"
   ]
  },
  {
   "cell_type": "markdown",
   "id": "479ad6e4",
   "metadata": {},
   "source": [
    "### search for acts containing **whodzi w życie** in any form (up to 2 additional words in search phrase)"
   ]
  },
  {
   "cell_type": "code",
   "execution_count": 7,
   "id": "11b507cb",
   "metadata": {
    "collapsed": true
   },
   "outputs": [
    {
     "data": {
      "text/plain": [
       "{\n",
       "  \"hits\": {\n",
       "    \"total\": {\n",
       "      \"value\": 1174\n",
       "    }\n",
       "  }\n",
       "}"
      ]
     },
     "metadata": {},
     "output_type": "display_data"
    },
    {
     "data": {
      "text/plain": [
       "<Response [200]>"
      ]
     },
     "execution_count": 7,
     "metadata": {},
     "output_type": "execute_result"
    }
   ],
   "source": [
    "%%rest GET http://localhost:9200/ustawy/_search?filter_path=hits.total.value\n",
    "Content-Type: application/json\n",
    "\n",
    "{\n",
    "  \"query\": {\n",
    "    \"match_phrase\": {\n",
    "      \"content\": {\n",
    "        \"query\": \"wchodzi w życie\",\n",
    "        \"slop\": 2\n",
    "      }\n",
    "    }\n",
    "  }\n",
    "}"
   ]
  },
  {
   "cell_type": "code",
   "execution_count": null,
   "id": "cc3910e5",
   "metadata": {},
   "outputs": [],
   "source": []
  },
  {
   "cell_type": "markdown",
   "id": "42f6a73b",
   "metadata": {},
   "source": [
    "### find 10 documents that are most relevant for **konstytucja** phrase"
   ]
  },
  {
   "cell_type": "code",
   "execution_count": 12,
   "id": "a4b8cc47",
   "metadata": {},
   "outputs": [
    {
     "data": {
      "text/plain": [
       "<Response [200]>"
      ]
     },
     "execution_count": 12,
     "metadata": {},
     "output_type": "execute_result"
    }
   ],
   "source": [
    "%%rest -q GET http://localhost:9200/ustawy/_search?filter_path=hits.hits._id,hits.hits._score\n",
    "Content-Type: application/json\n",
    "\n",
    "{\n",
    "  \"query\": {\n",
    "    \"match\": {\n",
    "      \"content\": \"konstytucja\"\n",
    "    }\n",
    "  },\n",
    "  \"size\": 10\n",
    "}"
   ]
  },
  {
   "cell_type": "code",
   "execution_count": 14,
   "id": "b3f0cfc0",
   "metadata": {},
   "outputs": [
    {
     "data": {
      "text/plain": [
       "[('1997_629', 6.869184),\n",
       " ('2000_443', 6.663479),\n",
       " ('1997_604', 6.632288),\n",
       " ('1996_350', 6.6273947),\n",
       " ('1997_642', 6.2522817),\n",
       " ('2001_23', 6.056855),\n",
       " ('1996_199', 5.9267144),\n",
       " ('1999_688', 5.848894),\n",
       " ('2001_1082', 5.4653444),\n",
       " ('1997_681', 5.4653444)]"
      ]
     },
     "execution_count": 14,
     "metadata": {},
     "output_type": "execute_result"
    }
   ],
   "source": [
    "results = _.json()[\"hits\"][\"hits\"] \n",
    "results = [(d[\"_id\"], d[\"_score\"]) for d in results]\n",
    "results.sort(key=lambda it: it[1], reverse=True)\n",
    "results"
   ]
  },
  {
   "cell_type": "markdown",
   "id": "3249ab43",
   "metadata": {},
   "source": []
  },
  {
   "cell_type": "code",
   "execution_count": 17,
   "id": "98d88271",
   "metadata": {
    "collapsed": true
   },
   "outputs": [
    {
     "data": {
      "text/plain": [
       "{\n",
       "  \"hits\": {\n",
       "    \"hits\": [\n",
       "      {\n",
       "        \"highlight\": {\n",
       "          \"content\": [\n",
       "            \"o zmianie ustawy konstytucyjnej o trybie przygotowania\\n           i uchwalenia <em>Konstytucji</em> Rzeczypospolitej\",\n",
       "            \"W ustawie  konstytucyjnej z  dnia 23 kwietnia 1992 r. o trybie przygotowania i \\nuchwalenia <em>Konstytucji</em>\",\n",
       "            \"Do zgłoszenia projektu <em>Konstytucji</em> załącza się wykaz \\n                obywateli popierających zgłoszenie\"\n",
       "          ]\n",
       "        }\n",
       "      },\n",
       "      {\n",
       "        \"highlight\": {\n",
       "          \"content\": [\n",
       "            \"umowy międzynarodowej i nie wypełnia przesłanek określonych w art. 89\\n     ust. 1 lub art. 90 <em>Konstytucji</em>\",\n",
       "            \"międzynarodowej lub załącznika nie\\n     wypełnia przesłanek określonych w art. 89 ust. 1 lub art. 90 <em>Konstytucji</em>\",\n",
       "            \"co do zasadności wyboru\\n  trybu ratyfikacji umowy międzynarodowej, o którym mowa w art. 89 ust. 2\\n  <em>Konstytucji</em>\"\n",
       "          ]\n",
       "        }\n",
       "      },\n",
       "      {\n",
       "        \"highlight\": {\n",
       "          \"content\": [\n",
       "            \"Jeżeli Trybunał Konstytucyjny wyda orzeczenie o sprzeczności celów partii \\n   politycznej z <em>Konstytucją</em>\",\n",
       "            \"Jeżeli Trybunał Konstytucyjny wyda orzeczenie o sprzeczności z <em>Konstytucją</em>\\n   celów lub działalności\",\n",
       "            \"Ciężar udowodnienia niezgodności z <em>Konstytucją</em> spoczywa\\n                na wnioskodawcy, który w tym\"\n",
       "          ]\n",
       "        }\n",
       "      },\n",
       "      {\n",
       "        \"highlight\": {\n",
       "          \"content\": [\n",
       "            \"Za naruszenie <em>Konstytucji</em> lub ustawy, w związku z zajmowanym\\n              stanowiskiem lub w zakresie\",\n",
       "            \"W zakresie określonym w art. 107 <em>Konstytucji</em> odpowiedzialność przed\\n           Trybunałem Stanu ponoszą\",\n",
       "            \"Członkowie Rady Ministrów ponoszą odpowiedzialność przed Trybunałem\\n           Stanu za naruszenie <em>Konstytucji</em>\"\n",
       "          ]\n",
       "        }\n",
       "      },\n",
       "      {\n",
       "        \"highlight\": {\n",
       "          \"content\": [\n",
       "            \"wnioskami o:\\n             1) stwierdzenie zgodności ustaw i umów międzynarodowych z\\n               <em>Konstytucją</em>\",\n",
       "            \"stwierdzenie zgodności przepisów prawa wydawanych przez\\n               centralne organy państwowe, z <em>Konstytucją</em>\",\n",
       "            \"ratyfikowanymi\\n               umowami międzynarodowymi i ustawami,\\n             4) stwierdzenie zgodności z <em>Konstytucją</em>\"\n",
       "          ]\n",
       "        }\n",
       "      },\n",
       "      {\n",
       "        \"highlight\": {\n",
       "          \"content\": [\n",
       "            \"W Dzienniku Ustaw Rzeczypospolitej Polskiej, zwanym dalej \\\"Dziennikiem\\n  Ustaw\\\", ogłasza się:\\n   1) <em>Konstytucję</em>\",\n",
       "            \"akty prawne dotyczące:\\n   1) stanu wojny i zawarcia pokoju,\\n   2) referendum zatwierdzającego zmianę <em>Konstytucji</em>\",\n",
       "            \"ministra, któremu Sejm wyraził wotum nieufności,\\n     h) powoływania lub odwoływania na określone w <em>Konstytucji</em>\"\n",
       "          ]\n",
       "        }\n",
       "      },\n",
       "      {\n",
       "        \"highlight\": {\n",
       "          \"content\": [\n",
       "            \"2c i art. 9-11 ustawy konstytucyjnej z dnia 23 kwietnia \\n1992 r. o trybie przygotowania i uchwalenia <em>Konstytucji</em>\",\n",
       "            \"Prezydent Rzeczypospolitej Polskiej zarządza poddanie <em>Konstytucji</em> pod referendum\\n   w trybie określonym\",\n",
       "            \"Przyjęcie w referendum <em>Konstytucji</em> następuje wówczas, gdy opowiedziała \\n   się za nią większość biorących\"\n",
       "          ]\n",
       "        }\n",
       "      },\n",
       "      {\n",
       "        \"highlight\": {\n",
       "          \"content\": [\n",
       "            \"postępowania w sprawie wykonywania inicjatywy\\nustawodawczej przez obywateli, o której mowa w art. 118 ust. 2 <em>Konstytucji</em>\",\n",
       "            \"Projekt ustawy nie może dotyczyć spraw, dla których <em>Konstytucja</em>\\nRzeczypospolitej Polskiej zastrzega wyłączną\",\n",
       "            \"Projekt ustawy wniesiony do Marszałka Sejmu powinien odpowiadać wymogom\\n  zawartym w <em>Konstytucji</em> i Regulaminie\"\n",
       "          ]\n",
       "        }\n",
       "      },\n",
       "      {\n",
       "        \"highlight\": {\n",
       "          \"content\": [\n",
       "            \"Krajowa Rada Sądownictwa, zwana dalej \\\"Radą\\\", realizuje cele określone w\\n  <em>Konstytucji</em> Rzeczypospolitej\",\n",
       "            \") podejmuje uchwały w sprawach wystąpienia do Trybunału Konstytucyjnego o\\n     zbadanie zgodności z <em>Konstytucją</em>\"\n",
       "          ]\n",
       "        }\n",
       "      },\n",
       "      {\n",
       "        \"highlight\": {\n",
       "          \"content\": [\n",
       "            \"Rzecznik Praw Dziecka, zwany dalej Rzecznikiem, stoi na straży praw dziecka\\n  określonych w <em>Konstytucji</em>\",\n",
       "            \"uroczyście, że przy wykonywaniu powierzonych mi obowiązków\\n     Rzecznika Praw Dziecka dochowam wierności <em>Konstytucji</em>\"\n",
       "          ]\n",
       "        }\n",
       "      }\n",
       "    ]\n",
       "  }\n",
       "}"
      ]
     },
     "metadata": {},
     "output_type": "display_data"
    },
    {
     "data": {
      "text/plain": [
       "<Response [200]>"
      ]
     },
     "execution_count": 17,
     "metadata": {},
     "output_type": "execute_result"
    }
   ],
   "source": [
    "%%rest GET http://localhost:9200/ustawy/_search?filter_path=hits.hits.highlight\n",
    "Content-Type: application/json\n",
    "\n",
    "{\n",
    "  \"query\": {\n",
    "    \"match\": {\n",
    "      \"content\": \"konstytucja\"\n",
    "    }\n",
    "  },\n",
    "  \"highlight\": {\n",
    "    \"fields\": {\n",
    "      \"content\": {\n",
    "        \"number_of_fragments\": 3\n",
    "      }\n",
    "    }\n",
    "  },\n",
    "  \"size\": 10\n",
    "}"
   ]
  },
  {
   "cell_type": "code",
   "execution_count": null,
   "id": "eccff9c6",
   "metadata": {},
   "outputs": [],
   "source": []
  },
  {
   "cell_type": "code",
   "execution_count": null,
   "id": "b3ca52da",
   "metadata": {},
   "outputs": [],
   "source": []
  }
 ],
 "metadata": {
  "kernelspec": {
   "display_name": "Python 3 (ipykernel)",
   "language": "python",
   "name": "python3"
  },
  "language_info": {
   "codemirror_mode": {
    "name": "ipython",
    "version": 3
   },
   "file_extension": ".py",
   "mimetype": "text/x-python",
   "name": "python",
   "nbconvert_exporter": "python",
   "pygments_lexer": "ipython3",
   "version": "3.8.12"
  }
 },
 "nbformat": 4,
 "nbformat_minor": 5
}
